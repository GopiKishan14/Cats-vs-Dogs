{
 "cells": [
  {
   "cell_type": "code",
   "execution_count": 1,
   "metadata": {},
   "outputs": [
    {
     "name": "stderr",
     "output_type": "stream",
     "text": [
      "/home/gopi/anaconda3/lib/python3.6/site-packages/h5py/__init__.py:36: FutureWarning: Conversion of the second argument of issubdtype from `float` to `np.floating` is deprecated. In future, it will be treated as `np.float64 == np.dtype(float).type`.\n",
      "  from ._conv import register_converters as _register_converters\n",
      "Using TensorFlow backend.\n"
     ]
    }
   ],
   "source": [
    "import tensorflow as tf\n",
    "from tensorflow.keras.models import Sequential\n",
    "from tensorflow.keras.layers import Dense , Dropout , Activation , Conv2D , MaxPooling2D,Flatten\n",
    "from keras.utils import plot_model\n",
    "from tensorflow.keras.callbacks import TensorBoard"
   ]
  },
  {
   "cell_type": "code",
   "execution_count": 2,
   "metadata": {},
   "outputs": [],
   "source": [
    "import pickle\n",
    "\n",
    "pickle_in = open(\"./Built_Dataset/X_50.pickle\" , \"rb\")\n",
    "X = pickle.load(pickle_in)\n",
    "\n",
    "pickle_in = open(\"./Built_Dataset/Y_50.pickle\" , \"rb\")\n",
    "y = pickle.load(pickle_in)\n",
    "\n",
    "X = X/255.0"
   ]
  },
  {
   "cell_type": "code",
   "execution_count": 3,
   "metadata": {},
   "outputs": [],
   "source": [
    "import time\n",
    "\n",
    "NAME = \"Cats-vs-Dogs-CNN-64*3-Dense-1-{}\".format(int(time.time()))\n",
    "tensorboard = TensorBoard(log_dir=\"logs/{}\".format(NAME))"
   ]
  },
  {
   "cell_type": "code",
   "execution_count": 4,
   "metadata": {},
   "outputs": [],
   "source": [
    "model = Sequential()\n",
    "\n",
    "model.add(Conv2D(64 , (3,3) , input_shape=X.shape[1:]))\n",
    "model.add(Activation('relu'))\n",
    "model.add(MaxPooling2D(pool_size=(2,2)))\n",
    "\n",
    "model.add(Conv2D(64 , (3,3) , input_shape=X.shape[1:]))\n",
    "model.add(Activation('relu'))\n",
    "model.add(MaxPooling2D(pool_size=(2,2)))\n",
    "\n",
    "model.add(Conv2D(64 , (3,3) , input_shape=X.shape[1:]))\n",
    "model.add(Activation('relu'))\n",
    "model.add(MaxPooling2D(pool_size=(2,2)))\n",
    "\n",
    "model.add(Flatten())  # this converts our 3D feature maps to 1D feature vectors\n",
    "\n",
    "model.add(Dense(1))\n",
    "model.add(Activation('sigmoid'))\n",
    "\n",
    "model.compile(loss='binary_crossentropy',\n",
    "             optimizer = 'adam',\n",
    "             metrics=['accuracy'])\n"
   ]
  },
  {
   "cell_type": "code",
   "execution_count": 5,
   "metadata": {},
   "outputs": [
    {
     "name": "stdout",
     "output_type": "stream",
     "text": [
      "_________________________________________________________________\n",
      "Layer (type)                 Output Shape              Param #   \n",
      "=================================================================\n",
      "conv2d (Conv2D)              (None, 48, 48, 64)        640       \n",
      "_________________________________________________________________\n",
      "activation (Activation)      (None, 48, 48, 64)        0         \n",
      "_________________________________________________________________\n",
      "max_pooling2d (MaxPooling2D) (None, 24, 24, 64)        0         \n",
      "_________________________________________________________________\n",
      "conv2d_1 (Conv2D)            (None, 22, 22, 64)        36928     \n",
      "_________________________________________________________________\n",
      "activation_1 (Activation)    (None, 22, 22, 64)        0         \n",
      "_________________________________________________________________\n",
      "max_pooling2d_1 (MaxPooling2 (None, 11, 11, 64)        0         \n",
      "_________________________________________________________________\n",
      "conv2d_2 (Conv2D)            (None, 9, 9, 64)          36928     \n",
      "_________________________________________________________________\n",
      "activation_2 (Activation)    (None, 9, 9, 64)          0         \n",
      "_________________________________________________________________\n",
      "max_pooling2d_2 (MaxPooling2 (None, 4, 4, 64)          0         \n",
      "_________________________________________________________________\n",
      "flatten (Flatten)            (None, 1024)              0         \n",
      "_________________________________________________________________\n",
      "dense (Dense)                (None, 1)                 1025      \n",
      "_________________________________________________________________\n",
      "activation_3 (Activation)    (None, 1)                 0         \n",
      "=================================================================\n",
      "Total params: 75,521\n",
      "Trainable params: 75,521\n",
      "Non-trainable params: 0\n",
      "_________________________________________________________________\n"
     ]
    }
   ],
   "source": [
    "#Saving model details\n",
    "model.summary()\n",
    "plot_model(model, to_file='model.png' , show_shapes=True)"
   ]
  },
  {
   "cell_type": "code",
   "execution_count": 49,
   "metadata": {},
   "outputs": [
    {
     "data": {
      "image/svg+xml": [
       "<svg height=\"921pt\" viewBox=\"0.00 0.00 215.00 921.00\" width=\"215pt\" xmlns=\"http://www.w3.org/2000/svg\" xmlns:xlink=\"http://www.w3.org/1999/xlink\">\n",
       "<g class=\"graph\" id=\"graph0\" transform=\"scale(1 1) rotate(0) translate(4 917)\">\n",
       "<title>G</title>\n",
       "<polygon fill=\"#ffffff\" points=\"-4,4 -4,-917 211,-917 211,4 -4,4\" stroke=\"transparent\"/>\n",
       "<!-- 139850795039432 -->\n",
       "<g class=\"node\" id=\"node1\">\n",
       "<title>139850795039432</title>\n",
       "<polygon fill=\"none\" points=\"42,-803.5 42,-839.5 165,-839.5 165,-803.5 42,-803.5\" stroke=\"#000000\"/>\n",
       "<text fill=\"#000000\" font-family=\"Times,serif\" font-size=\"14.00\" text-anchor=\"middle\" x=\"103.5\" y=\"-817.8\">conv2d_7: Conv2D</text>\n",
       "</g>\n",
       "<!-- 139850795039712 -->\n",
       "<g class=\"node\" id=\"node2\">\n",
       "<title>139850795039712</title>\n",
       "<polygon fill=\"none\" points=\"26,-730.5 26,-766.5 181,-766.5 181,-730.5 26,-730.5\" stroke=\"#000000\"/>\n",
       "<text fill=\"#000000\" font-family=\"Times,serif\" font-size=\"14.00\" text-anchor=\"middle\" x=\"103.5\" y=\"-744.8\">activation_10: Activation</text>\n",
       "</g>\n",
       "<!-- 139850795039432&#45;&gt;139850795039712 -->\n",
       "<g class=\"edge\" id=\"edge2\">\n",
       "<title>139850795039432-&gt;139850795039712</title>\n",
       "<path d=\"M103.5,-803.4551C103.5,-795.3828 103.5,-785.6764 103.5,-776.6817\" fill=\"none\" stroke=\"#000000\"/>\n",
       "<polygon fill=\"#000000\" points=\"107.0001,-776.5903 103.5,-766.5904 100.0001,-776.5904 107.0001,-776.5903\" stroke=\"#000000\"/>\n",
       "</g>\n",
       "<!-- 139850794655984 -->\n",
       "<g class=\"node\" id=\"node3\">\n",
       "<title>139850794655984</title>\n",
       "<polygon fill=\"none\" points=\"0,-657.5 0,-693.5 207,-693.5 207,-657.5 0,-657.5\" stroke=\"#000000\"/>\n",
       "<text fill=\"#000000\" font-family=\"Times,serif\" font-size=\"14.00\" text-anchor=\"middle\" x=\"103.5\" y=\"-671.8\">max_pooling2d_7: MaxPooling2D</text>\n",
       "</g>\n",
       "<!-- 139850795039712&#45;&gt;139850794655984 -->\n",
       "<g class=\"edge\" id=\"edge3\">\n",
       "<title>139850795039712-&gt;139850794655984</title>\n",
       "<path d=\"M103.5,-730.4551C103.5,-722.3828 103.5,-712.6764 103.5,-703.6817\" fill=\"none\" stroke=\"#000000\"/>\n",
       "<polygon fill=\"#000000\" points=\"107.0001,-703.5903 103.5,-693.5904 100.0001,-703.5904 107.0001,-703.5903\" stroke=\"#000000\"/>\n",
       "</g>\n",
       "<!-- 139850795040720 -->\n",
       "<g class=\"node\" id=\"node4\">\n",
       "<title>139850795040720</title>\n",
       "<polygon fill=\"none\" points=\"42,-584.5 42,-620.5 165,-620.5 165,-584.5 42,-584.5\" stroke=\"#000000\"/>\n",
       "<text fill=\"#000000\" font-family=\"Times,serif\" font-size=\"14.00\" text-anchor=\"middle\" x=\"103.5\" y=\"-598.8\">conv2d_8: Conv2D</text>\n",
       "</g>\n",
       "<!-- 139850794655984&#45;&gt;139850795040720 -->\n",
       "<g class=\"edge\" id=\"edge4\">\n",
       "<title>139850794655984-&gt;139850795040720</title>\n",
       "<path d=\"M103.5,-657.4551C103.5,-649.3828 103.5,-639.6764 103.5,-630.6817\" fill=\"none\" stroke=\"#000000\"/>\n",
       "<polygon fill=\"#000000\" points=\"107.0001,-630.5903 103.5,-620.5904 100.0001,-630.5904 107.0001,-630.5903\" stroke=\"#000000\"/>\n",
       "</g>\n",
       "<!-- 139850794656600 -->\n",
       "<g class=\"node\" id=\"node5\">\n",
       "<title>139850794656600</title>\n",
       "<polygon fill=\"none\" points=\"26,-511.5 26,-547.5 181,-547.5 181,-511.5 26,-511.5\" stroke=\"#000000\"/>\n",
       "<text fill=\"#000000\" font-family=\"Times,serif\" font-size=\"14.00\" text-anchor=\"middle\" x=\"103.5\" y=\"-525.8\">activation_11: Activation</text>\n",
       "</g>\n",
       "<!-- 139850795040720&#45;&gt;139850794656600 -->\n",
       "<g class=\"edge\" id=\"edge5\">\n",
       "<title>139850795040720-&gt;139850794656600</title>\n",
       "<path d=\"M103.5,-584.4551C103.5,-576.3828 103.5,-566.6764 103.5,-557.6817\" fill=\"none\" stroke=\"#000000\"/>\n",
       "<polygon fill=\"#000000\" points=\"107.0001,-557.5903 103.5,-547.5904 100.0001,-557.5904 107.0001,-557.5903\" stroke=\"#000000\"/>\n",
       "</g>\n",
       "<!-- 139850794766232 -->\n",
       "<g class=\"node\" id=\"node6\">\n",
       "<title>139850794766232</title>\n",
       "<polygon fill=\"none\" points=\"0,-438.5 0,-474.5 207,-474.5 207,-438.5 0,-438.5\" stroke=\"#000000\"/>\n",
       "<text fill=\"#000000\" font-family=\"Times,serif\" font-size=\"14.00\" text-anchor=\"middle\" x=\"103.5\" y=\"-452.8\">max_pooling2d_8: MaxPooling2D</text>\n",
       "</g>\n",
       "<!-- 139850794656600&#45;&gt;139850794766232 -->\n",
       "<g class=\"edge\" id=\"edge6\">\n",
       "<title>139850794656600-&gt;139850794766232</title>\n",
       "<path d=\"M103.5,-511.4551C103.5,-503.3828 103.5,-493.6764 103.5,-484.6817\" fill=\"none\" stroke=\"#000000\"/>\n",
       "<polygon fill=\"#000000\" points=\"107.0001,-484.5903 103.5,-474.5904 100.0001,-484.5904 107.0001,-484.5903\" stroke=\"#000000\"/>\n",
       "</g>\n",
       "<!-- 139850794766120 -->\n",
       "<g class=\"node\" id=\"node7\">\n",
       "<title>139850794766120</title>\n",
       "<polygon fill=\"none\" points=\"42,-365.5 42,-401.5 165,-401.5 165,-365.5 42,-365.5\" stroke=\"#000000\"/>\n",
       "<text fill=\"#000000\" font-family=\"Times,serif\" font-size=\"14.00\" text-anchor=\"middle\" x=\"103.5\" y=\"-379.8\">conv2d_9: Conv2D</text>\n",
       "</g>\n",
       "<!-- 139850794766232&#45;&gt;139850794766120 -->\n",
       "<g class=\"edge\" id=\"edge7\">\n",
       "<title>139850794766232-&gt;139850794766120</title>\n",
       "<path d=\"M103.5,-438.4551C103.5,-430.3828 103.5,-420.6764 103.5,-411.6817\" fill=\"none\" stroke=\"#000000\"/>\n",
       "<polygon fill=\"#000000\" points=\"107.0001,-411.5903 103.5,-401.5904 100.0001,-411.5904 107.0001,-411.5903\" stroke=\"#000000\"/>\n",
       "</g>\n",
       "<!-- 139850802840184 -->\n",
       "<g class=\"node\" id=\"node8\">\n",
       "<title>139850802840184</title>\n",
       "<polygon fill=\"none\" points=\"26,-292.5 26,-328.5 181,-328.5 181,-292.5 26,-292.5\" stroke=\"#000000\"/>\n",
       "<text fill=\"#000000\" font-family=\"Times,serif\" font-size=\"14.00\" text-anchor=\"middle\" x=\"103.5\" y=\"-306.8\">activation_12: Activation</text>\n",
       "</g>\n",
       "<!-- 139850794766120&#45;&gt;139850802840184 -->\n",
       "<g class=\"edge\" id=\"edge8\">\n",
       "<title>139850794766120-&gt;139850802840184</title>\n",
       "<path d=\"M103.5,-365.4551C103.5,-357.3828 103.5,-347.6764 103.5,-338.6817\" fill=\"none\" stroke=\"#000000\"/>\n",
       "<polygon fill=\"#000000\" points=\"107.0001,-338.5903 103.5,-328.5904 100.0001,-338.5904 107.0001,-338.5903\" stroke=\"#000000\"/>\n",
       "</g>\n",
       "<!-- 139850794984952 -->\n",
       "<g class=\"node\" id=\"node9\">\n",
       "<title>139850794984952</title>\n",
       "<polygon fill=\"none\" points=\"0,-219.5 0,-255.5 207,-255.5 207,-219.5 0,-219.5\" stroke=\"#000000\"/>\n",
       "<text fill=\"#000000\" font-family=\"Times,serif\" font-size=\"14.00\" text-anchor=\"middle\" x=\"103.5\" y=\"-233.8\">max_pooling2d_9: MaxPooling2D</text>\n",
       "</g>\n",
       "<!-- 139850802840184&#45;&gt;139850794984952 -->\n",
       "<g class=\"edge\" id=\"edge9\">\n",
       "<title>139850802840184-&gt;139850794984952</title>\n",
       "<path d=\"M103.5,-292.4551C103.5,-284.3828 103.5,-274.6764 103.5,-265.6817\" fill=\"none\" stroke=\"#000000\"/>\n",
       "<polygon fill=\"#000000\" points=\"107.0001,-265.5903 103.5,-255.5904 100.0001,-265.5904 107.0001,-265.5903\" stroke=\"#000000\"/>\n",
       "</g>\n",
       "<!-- 139850794984840 -->\n",
       "<g class=\"node\" id=\"node10\">\n",
       "<title>139850794984840</title>\n",
       "<polygon fill=\"none\" points=\"48.5,-146.5 48.5,-182.5 158.5,-182.5 158.5,-146.5 48.5,-146.5\" stroke=\"#000000\"/>\n",
       "<text fill=\"#000000\" font-family=\"Times,serif\" font-size=\"14.00\" text-anchor=\"middle\" x=\"103.5\" y=\"-160.8\">flatten_3: Flatten</text>\n",
       "</g>\n",
       "<!-- 139850794984952&#45;&gt;139850794984840 -->\n",
       "<g class=\"edge\" id=\"edge10\">\n",
       "<title>139850794984952-&gt;139850794984840</title>\n",
       "<path d=\"M103.5,-219.4551C103.5,-211.3828 103.5,-201.6764 103.5,-192.6817\" fill=\"none\" stroke=\"#000000\"/>\n",
       "<polygon fill=\"#000000\" points=\"107.0001,-192.5903 103.5,-182.5904 100.0001,-192.5904 107.0001,-192.5903\" stroke=\"#000000\"/>\n",
       "</g>\n",
       "<!-- 139850794985680 -->\n",
       "<g class=\"node\" id=\"node11\">\n",
       "<title>139850794985680</title>\n",
       "<polygon fill=\"none\" points=\"52.5,-73.5 52.5,-109.5 154.5,-109.5 154.5,-73.5 52.5,-73.5\" stroke=\"#000000\"/>\n",
       "<text fill=\"#000000\" font-family=\"Times,serif\" font-size=\"14.00\" text-anchor=\"middle\" x=\"103.5\" y=\"-87.8\">dense_3: Dense</text>\n",
       "</g>\n",
       "<!-- 139850794984840&#45;&gt;139850794985680 -->\n",
       "<g class=\"edge\" id=\"edge11\">\n",
       "<title>139850794984840-&gt;139850794985680</title>\n",
       "<path d=\"M103.5,-146.4551C103.5,-138.3828 103.5,-128.6764 103.5,-119.6817\" fill=\"none\" stroke=\"#000000\"/>\n",
       "<polygon fill=\"#000000\" points=\"107.0001,-119.5903 103.5,-109.5904 100.0001,-119.5904 107.0001,-119.5903\" stroke=\"#000000\"/>\n",
       "</g>\n",
       "<!-- 139850794420992 -->\n",
       "<g class=\"node\" id=\"node12\">\n",
       "<title>139850794420992</title>\n",
       "<polygon fill=\"none\" points=\"26,-.5 26,-36.5 181,-36.5 181,-.5 26,-.5\" stroke=\"#000000\"/>\n",
       "<text fill=\"#000000\" font-family=\"Times,serif\" font-size=\"14.00\" text-anchor=\"middle\" x=\"103.5\" y=\"-14.8\">activation_13: Activation</text>\n",
       "</g>\n",
       "<!-- 139850794985680&#45;&gt;139850794420992 -->\n",
       "<g class=\"edge\" id=\"edge12\">\n",
       "<title>139850794985680-&gt;139850794420992</title>\n",
       "<path d=\"M103.5,-73.4551C103.5,-65.3828 103.5,-55.6764 103.5,-46.6817\" fill=\"none\" stroke=\"#000000\"/>\n",
       "<polygon fill=\"#000000\" points=\"107.0001,-46.5903 103.5,-36.5904 100.0001,-46.5904 107.0001,-46.5903\" stroke=\"#000000\"/>\n",
       "</g>\n",
       "<!-- 139850795040104 -->\n",
       "<g class=\"node\" id=\"node13\">\n",
       "<title>139850795040104</title>\n",
       "<polygon fill=\"none\" points=\"44.5,-876.5 44.5,-912.5 162.5,-912.5 162.5,-876.5 44.5,-876.5\" stroke=\"#000000\"/>\n",
       "<text fill=\"#000000\" font-family=\"Times,serif\" font-size=\"14.00\" text-anchor=\"middle\" x=\"103.5\" y=\"-890.8\">139850795040104</text>\n",
       "</g>\n",
       "<!-- 139850795040104&#45;&gt;139850795039432 -->\n",
       "<g class=\"edge\" id=\"edge1\">\n",
       "<title>139850795040104-&gt;139850795039432</title>\n",
       "<path d=\"M103.5,-876.4551C103.5,-868.3828 103.5,-858.6764 103.5,-849.6817\" fill=\"none\" stroke=\"#000000\"/>\n",
       "<polygon fill=\"#000000\" points=\"107.0001,-849.5903 103.5,-839.5904 100.0001,-849.5904 107.0001,-849.5903\" stroke=\"#000000\"/>\n",
       "</g>\n",
       "</g>\n",
       "</svg>"
      ],
      "text/plain": [
       "<IPython.core.display.SVG object>"
      ]
     },
     "execution_count": 49,
     "metadata": {},
     "output_type": "execute_result"
    }
   ],
   "source": [
    "from IPython.display import SVG \n",
    "from keras.utils.vis_utils import model_to_dot \n",
    "SVG(model_to_dot(model).create(prog='dot', format='svg'))\n"
   ]
  },
  {
   "cell_type": "code",
   "execution_count": 51,
   "metadata": {},
   "outputs": [
    {
     "name": "stdout",
     "output_type": "stream",
     "text": [
      "(24914, 50, 50, 1)\n",
      "24914\n"
     ]
    }
   ],
   "source": [
    "from sklearn.utils import shuffle\n",
    "# y = np.array(y)\n",
    "X, y = shuffle(X, y)\n",
    "\n",
    "\n",
    "print(X.shape)\n",
    "print(len(y))"
   ]
  },
  {
   "cell_type": "code",
   "execution_count": 52,
   "metadata": {},
   "outputs": [
    {
     "name": "stdout",
     "output_type": "stream",
     "text": [
      "(15000, 50, 50, 1)\n"
     ]
    },
    {
     "data": {
      "text/plain": [
       "15000"
      ]
     },
     "execution_count": 52,
     "metadata": {},
     "output_type": "execute_result"
    }
   ],
   "source": [
    "#creating a small dataset due resource exhausting error\n",
    "lim = 15000\n",
    "\n",
    "X_small = X[:lim,:,:,:]\n",
    "y_small = []\n",
    "for i in range(lim):\n",
    "    y_small.append(y[i])\n",
    "    \n",
    "print(X_small.shape)\n",
    "len(y_small)\n"
   ]
  },
  {
   "cell_type": "code",
   "execution_count": 53,
   "metadata": {},
   "outputs": [
    {
     "name": "stdout",
     "output_type": "stream",
     "text": [
      "Train on 10500 samples, validate on 4500 samples\n",
      "Epoch 1/3\n",
      "10500/10500 [==============================] - 59s 6ms/step - loss: 0.6717 - acc: 0.5811 - val_loss: 0.6384 - val_acc: 0.6516\n",
      "Epoch 2/3\n",
      "10500/10500 [==============================] - 60s 6ms/step - loss: 0.5967 - acc: 0.6831 - val_loss: 0.5874 - val_acc: 0.6931\n",
      "Epoch 3/3\n",
      "10500/10500 [==============================] - 60s 6ms/step - loss: 0.5297 - acc: 0.7368 - val_loss: 0.5159 - val_acc: 0.7460\n"
     ]
    }
   ],
   "source": [
    "import matplotlib.pyplot as plt \n",
    "history = model.fit(X_small, y_small, validation_split=0.3, epochs=3, batch_size=32, verbose=1, callbacks=[tensorboard]) \n"
   ]
  },
  {
   "cell_type": "code",
   "execution_count": 54,
   "metadata": {},
   "outputs": [],
   "source": [
    "model_name = NAME + '.model'\n",
    "model.save(model_name)"
   ]
  },
  {
   "cell_type": "code",
   "execution_count": 55,
   "metadata": {},
   "outputs": [
    {
     "data": {
      "image/png": "[encoded data removed]",
      "text/plain": [
       "<matplotlib.figure.Figure at 0x7f31b2dfcef0>"
      ]
     },
     "metadata": {},
     "output_type": "display_data"
    }
   ],
   "source": [
    "# Plot training & validation accuracy values \n",
    "plt.plot(history.history['acc']) \n",
    "plt.plot(history.history['val_acc']) \n",
    "plt.title('Model accuracy') \n",
    "plt.ylabel('Accuracy') \n",
    "plt.xlabel('Epoch') \n",
    "plt.legend(['Train', 'Test'], loc='upper left') \n",
    "plt.show()"
   ]
  },
  {
   "cell_type": "code",
   "execution_count": 56,
   "metadata": {},
   "outputs": [
    {
     "data": {
      "image/png": "[encoded data removed]",
      "text/plain": [
       "<matplotlib.figure.Figure at 0x7f318ccf07f0>"
      ]
     },
     "metadata": {},
     "output_type": "display_data"
    }
   ],
   "source": [
    "# Plot training & validation loss values \n",
    "plt.plot(history.history['loss']) \n",
    "plt.plot(history.history['val_loss']) \n",
    "plt.title('Model loss') \n",
    "plt.ylabel('Loss') \n",
    "plt.xlabel('Epoch') \n",
    "plt.legend(['Train', 'Test'], loc='upper left') \n",
    "plt.show()"
   ]
  },
  {
   "cell_type": "code",
   "execution_count": null,
   "metadata": {},
   "outputs": [],
   "source": []
  }
 ],
 "metadata": {
  "kernelspec": {
   "display_name": "Python 3",
   "language": "python",
   "name": "python3"
  },
  "language_info": {
   "codemirror_mode": {
    "name": "ipython",
    "version": 3
   },
   "file_extension": ".py",
   "mimetype": "text/x-python",
   "name": "python",
   "nbconvert_exporter": "python",
   "pygments_lexer": "ipython3",
   "version": "3.6.4"
  }
 },
 "nbformat": 4,
 "nbformat_minor": 2
}
